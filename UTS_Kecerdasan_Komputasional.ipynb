{
  "nbformat": 4,
  "nbformat_minor": 0,
  "metadata": {
    "colab": {
      "provenance": []
    },
    "kernelspec": {
      "name": "python3",
      "display_name": "Python 3"
    },
    "language_info": {
      "name": "python"
    }
  },
  "cells": [
    {
      "cell_type": "code",
      "execution_count": null,
      "metadata": {
        "id": "rYwNenhZAGzb"
      },
      "outputs": [],
      "source": [
        "import matplotlib as plt\n",
        "from sklearn.datasets import make_blobs\n",
        "from sklearn.cluster import KMeans\n",
        "from sklearn.metrics import silhouette_score\n",
        "from sklearn.preprocessing import StandardScaler"
      ]
    },
    {
      "cell_type": "code",
      "source": [
        "features, true_label = make_blobs(\n",
        "    n_samples=216,\n",
        "    centers=5,\n",
        "    cluster_std=2.16,\n",
        "    random_state=16\n",
        ")"
      ],
      "metadata": {
        "id": "_eWLYDQqAwAb"
      },
      "execution_count": 3,
      "outputs": []
    },
    {
      "cell_type": "code",
      "source": [
        "features[:10]"
      ],
      "metadata": {
        "colab": {
          "base_uri": "https://localhost:8080/"
        },
        "id": "ZfaFc9MPBKC4",
        "outputId": "93d7d646-3d38-4e20-aaa3-8fd47b0bdbe2"
      },
      "execution_count": 4,
      "outputs": [
        {
          "output_type": "execute_result",
          "data": {
            "text/plain": [
              "array([[  2.49247802,  -7.1762178 ],\n",
              "       [ -1.24518486,  -9.61724063],\n",
              "       [ -4.87533708,  -7.51844935],\n",
              "       [-10.16533863,   6.05499017],\n",
              "       [ -4.420596  ,  -5.66676667],\n",
              "       [ -4.86660075,   4.80580599],\n",
              "       [  1.75990246,  -7.54657329],\n",
              "       [-11.15721522,   8.4923683 ],\n",
              "       [ -3.70789977,  -3.26586231],\n",
              "       [ -7.23387616,   0.71975293]])"
            ]
          },
          "metadata": {},
          "execution_count": 4
        }
      ]
    },
    {
      "cell_type": "code",
      "source": [
        "true_label[:200]"
      ],
      "metadata": {
        "colab": {
          "base_uri": "https://localhost:8080/"
        },
        "id": "rqgzAIThBdjH",
        "outputId": "6295d636-7fb4-4335-adc2-1a62f1631909"
      },
      "execution_count": 5,
      "outputs": [
        {
          "output_type": "execute_result",
          "data": {
            "text/plain": [
              "array([3, 1, 2, 4, 2, 0, 1, 4, 2, 0, 2, 4, 0, 2, 2, 0, 2, 2, 2, 1, 0, 4,\n",
              "       4, 3, 0, 4, 4, 2, 0, 1, 3, 0, 3, 4, 3, 2, 4, 2, 4, 4, 0, 2, 1, 1,\n",
              "       1, 3, 3, 3, 3, 3, 0, 1, 0, 2, 1, 3, 4, 3, 1, 2, 0, 3, 4, 3, 0, 1,\n",
              "       0, 0, 2, 1, 0, 4, 3, 2, 1, 3, 4, 4, 0, 1, 3, 0, 2, 3, 3, 2, 2, 1,\n",
              "       4, 1, 3, 3, 2, 2, 1, 3, 1, 4, 0, 4, 0, 3, 1, 1, 2, 2, 0, 0, 2, 0,\n",
              "       0, 4, 1, 2, 2, 1, 2, 2, 4, 1, 4, 3, 0, 3, 1, 0, 3, 3, 2, 4, 1, 1,\n",
              "       1, 4, 4, 2, 0, 4, 4, 4, 2, 3, 0, 2, 1, 1, 0, 2, 3, 4, 0, 3, 1, 4,\n",
              "       3, 0, 2, 4, 4, 3, 0, 4, 3, 1, 1, 1, 2, 1, 4, 2, 1, 4, 3, 0, 3, 1,\n",
              "       3, 3, 1, 1, 0, 0, 1, 1, 2, 4, 4, 3, 1, 0, 0, 2, 0, 3, 0, 4, 4, 2,\n",
              "       3, 2])"
            ]
          },
          "metadata": {},
          "execution_count": 5
        }
      ]
    },
    {
      "cell_type": "code",
      "source": [
        "standard_skala = StandardScaler()\n",
        "skala_fitur = standard_skala.fit_transform(features)"
      ],
      "metadata": {
        "id": "sOj0yakWBsSU"
      },
      "execution_count": 6,
      "outputs": []
    },
    {
      "cell_type": "code",
      "source": [
        "skala_fitur[:10]"
      ],
      "metadata": {
        "colab": {
          "base_uri": "https://localhost:8080/"
        },
        "id": "DsStsYYXBxjW",
        "outputId": "93d69932-66dd-433e-bd50-14a143709de6"
      },
      "execution_count": 7,
      "outputs": [
        {
          "output_type": "execute_result",
          "data": {
            "text/plain": [
              "array([[ 0.99863303, -0.70661902],\n",
              "       [ 0.2296445 , -1.07476252],\n",
              "       [-0.51722473, -0.75823276],\n",
              "       [-1.60559214,  1.28884904],\n",
              "       [-0.42366609, -0.47897076],\n",
              "       [-0.51542731,  1.10045301],\n",
              "       [ 0.84791258, -0.76247428],\n",
              "       [-1.8096613 ,  1.65644286],\n",
              "       [-0.27703563, -0.11687774],\n",
              "       [-1.00247167,  0.48421385]])"
            ]
          },
          "metadata": {},
          "execution_count": 7
        }
      ]
    },
    {
      "cell_type": "code",
      "source": [
        "metode_kmeans = KMeans(\n",
        "    init=\"random\", \n",
        "    n_clusters=9, \n",
        "    n_init=10, \n",
        "    max_iter=100, \n",
        "    random_state=42\n",
        "    )"
      ],
      "metadata": {
        "id": "i_khwO-oB2iB"
      },
      "execution_count": 8,
      "outputs": []
    },
    {
      "cell_type": "code",
      "source": [
        "metode_kmeans.fit(skala_fitur)"
      ],
      "metadata": {
        "colab": {
          "base_uri": "https://localhost:8080/",
          "height": 75
        },
        "id": "zlrDHwHCB8w0",
        "outputId": "1dee0901-5946-41d5-fe8d-7b3f84541070"
      },
      "execution_count": 9,
      "outputs": [
        {
          "output_type": "execute_result",
          "data": {
            "text/plain": [
              "KMeans(init='random', max_iter=100, n_clusters=9, n_init=10, random_state=42)"
            ],
            "text/html": [
              "<style>#sk-container-id-1 {color: black;background-color: white;}#sk-container-id-1 pre{padding: 0;}#sk-container-id-1 div.sk-toggleable {background-color: white;}#sk-container-id-1 label.sk-toggleable__label {cursor: pointer;display: block;width: 100%;margin-bottom: 0;padding: 0.3em;box-sizing: border-box;text-align: center;}#sk-container-id-1 label.sk-toggleable__label-arrow:before {content: \"▸\";float: left;margin-right: 0.25em;color: #696969;}#sk-container-id-1 label.sk-toggleable__label-arrow:hover:before {color: black;}#sk-container-id-1 div.sk-estimator:hover label.sk-toggleable__label-arrow:before {color: black;}#sk-container-id-1 div.sk-toggleable__content {max-height: 0;max-width: 0;overflow: hidden;text-align: left;background-color: #f0f8ff;}#sk-container-id-1 div.sk-toggleable__content pre {margin: 0.2em;color: black;border-radius: 0.25em;background-color: #f0f8ff;}#sk-container-id-1 input.sk-toggleable__control:checked~div.sk-toggleable__content {max-height: 200px;max-width: 100%;overflow: auto;}#sk-container-id-1 input.sk-toggleable__control:checked~label.sk-toggleable__label-arrow:before {content: \"▾\";}#sk-container-id-1 div.sk-estimator input.sk-toggleable__control:checked~label.sk-toggleable__label {background-color: #d4ebff;}#sk-container-id-1 div.sk-label input.sk-toggleable__control:checked~label.sk-toggleable__label {background-color: #d4ebff;}#sk-container-id-1 input.sk-hidden--visually {border: 0;clip: rect(1px 1px 1px 1px);clip: rect(1px, 1px, 1px, 1px);height: 1px;margin: -1px;overflow: hidden;padding: 0;position: absolute;width: 1px;}#sk-container-id-1 div.sk-estimator {font-family: monospace;background-color: #f0f8ff;border: 1px dotted black;border-radius: 0.25em;box-sizing: border-box;margin-bottom: 0.5em;}#sk-container-id-1 div.sk-estimator:hover {background-color: #d4ebff;}#sk-container-id-1 div.sk-parallel-item::after {content: \"\";width: 100%;border-bottom: 1px solid gray;flex-grow: 1;}#sk-container-id-1 div.sk-label:hover label.sk-toggleable__label {background-color: #d4ebff;}#sk-container-id-1 div.sk-serial::before {content: \"\";position: absolute;border-left: 1px solid gray;box-sizing: border-box;top: 0;bottom: 0;left: 50%;z-index: 0;}#sk-container-id-1 div.sk-serial {display: flex;flex-direction: column;align-items: center;background-color: white;padding-right: 0.2em;padding-left: 0.2em;position: relative;}#sk-container-id-1 div.sk-item {position: relative;z-index: 1;}#sk-container-id-1 div.sk-parallel {display: flex;align-items: stretch;justify-content: center;background-color: white;position: relative;}#sk-container-id-1 div.sk-item::before, #sk-container-id-1 div.sk-parallel-item::before {content: \"\";position: absolute;border-left: 1px solid gray;box-sizing: border-box;top: 0;bottom: 0;left: 50%;z-index: -1;}#sk-container-id-1 div.sk-parallel-item {display: flex;flex-direction: column;z-index: 1;position: relative;background-color: white;}#sk-container-id-1 div.sk-parallel-item:first-child::after {align-self: flex-end;width: 50%;}#sk-container-id-1 div.sk-parallel-item:last-child::after {align-self: flex-start;width: 50%;}#sk-container-id-1 div.sk-parallel-item:only-child::after {width: 0;}#sk-container-id-1 div.sk-dashed-wrapped {border: 1px dashed gray;margin: 0 0.4em 0.5em 0.4em;box-sizing: border-box;padding-bottom: 0.4em;background-color: white;}#sk-container-id-1 div.sk-label label {font-family: monospace;font-weight: bold;display: inline-block;line-height: 1.2em;}#sk-container-id-1 div.sk-label-container {text-align: center;}#sk-container-id-1 div.sk-container {/* jupyter's `normalize.less` sets `[hidden] { display: none; }` but bootstrap.min.css set `[hidden] { display: none !important; }` so we also need the `!important` here to be able to override the default hidden behavior on the sphinx rendered scikit-learn.org. See: https://github.com/scikit-learn/scikit-learn/issues/21755 */display: inline-block !important;position: relative;}#sk-container-id-1 div.sk-text-repr-fallback {display: none;}</style><div id=\"sk-container-id-1\" class=\"sk-top-container\"><div class=\"sk-text-repr-fallback\"><pre>KMeans(init=&#x27;random&#x27;, max_iter=100, n_clusters=9, n_init=10, random_state=42)</pre><b>In a Jupyter environment, please rerun this cell to show the HTML representation or trust the notebook. <br />On GitHub, the HTML representation is unable to render, please try loading this page with nbviewer.org.</b></div><div class=\"sk-container\" hidden><div class=\"sk-item\"><div class=\"sk-estimator sk-toggleable\"><input class=\"sk-toggleable__control sk-hidden--visually\" id=\"sk-estimator-id-1\" type=\"checkbox\" checked><label for=\"sk-estimator-id-1\" class=\"sk-toggleable__label sk-toggleable__label-arrow\">KMeans</label><div class=\"sk-toggleable__content\"><pre>KMeans(init=&#x27;random&#x27;, max_iter=100, n_clusters=9, n_init=10, random_state=42)</pre></div></div></div></div></div>"
            ]
          },
          "metadata": {},
          "execution_count": 9
        }
      ]
    },
    {
      "cell_type": "code",
      "source": [
        "metode_kmeans.inertia_"
      ],
      "metadata": {
        "colab": {
          "base_uri": "https://localhost:8080/"
        },
        "id": "P8OTuct8CZvs",
        "outputId": "c333c071-e902-4d38-f86c-25746082424b"
      },
      "execution_count": 10,
      "outputs": [
        {
          "output_type": "execute_result",
          "data": {
            "text/plain": [
              "25.285098864200695"
            ]
          },
          "metadata": {},
          "execution_count": 10
        }
      ]
    },
    {
      "cell_type": "code",
      "source": [
        "metode_kmeans.cluster_centers_"
      ],
      "metadata": {
        "colab": {
          "base_uri": "https://localhost:8080/"
        },
        "id": "Nn44ajrmCcdB",
        "outputId": "d790112e-6fb7-4e0c-8b16-68cadbf7a1ca"
      },
      "execution_count": 11,
      "outputs": [
        {
          "output_type": "execute_result",
          "data": {
            "text/plain": [
              "array([[ 0.19582429, -0.70205631],\n",
              "       [-0.98049847,  1.52177912],\n",
              "       [ 0.84292846, -0.46199918],\n",
              "       [-1.53943018,  1.75879043],\n",
              "       [-0.44047175, -0.34258621],\n",
              "       [-1.04685454,  0.40699057],\n",
              "       [ 0.88171265, -1.21551837],\n",
              "       [-0.3058176 ,  0.51836351],\n",
              "       [ 1.52246755, -0.74681106]])"
            ]
          },
          "metadata": {},
          "execution_count": 11
        }
      ]
    },
    {
      "cell_type": "code",
      "source": [
        "metode_kmeans.n_iter_"
      ],
      "metadata": {
        "colab": {
          "base_uri": "https://localhost:8080/"
        },
        "id": "P3qC2xLhChWj",
        "outputId": "8904a41e-9988-43d4-a6e2-8bd67c52067a"
      },
      "execution_count": 12,
      "outputs": [
        {
          "output_type": "execute_result",
          "data": {
            "text/plain": [
              "8"
            ]
          },
          "metadata": {},
          "execution_count": 12
        }
      ]
    },
    {
      "cell_type": "code",
      "source": [
        "metode_kmeans.labels_"
      ],
      "metadata": {
        "colab": {
          "base_uri": "https://localhost:8080/"
        },
        "id": "RE8K00vLCmPc",
        "outputId": "211eebb8-dba7-451c-9b6c-857c2fcf3a22"
      },
      "execution_count": 13,
      "outputs": [
        {
          "output_type": "execute_result",
          "data": {
            "text/plain": [
              "array([2, 0, 4, 3, 4, 7, 2, 3, 4, 5, 0, 1, 7, 0, 4, 5, 0, 0, 2, 0, 7, 1,\n",
              "       1, 0, 5, 3, 3, 4, 5, 6, 2, 5, 2, 3, 8, 0, 3, 4, 3, 1, 5, 0, 8, 0,\n",
              "       8, 8, 2, 8, 2, 8, 7, 6, 7, 0, 2, 0, 3, 8, 6, 0, 5, 8, 1, 2, 7, 0,\n",
              "       7, 7, 4, 2, 1, 1, 2, 4, 8, 2, 3, 1, 7, 6, 6, 4, 0, 6, 8, 0, 4, 8,\n",
              "       3, 0, 6, 6, 4, 0, 2, 8, 8, 3, 5, 1, 5, 8, 6, 6, 0, 0, 5, 5, 0, 5,\n",
              "       7, 3, 0, 4, 4, 2, 0, 0, 1, 2, 3, 2, 7, 8, 6, 7, 8, 8, 7, 3, 6, 6,\n",
              "       2, 1, 3, 0, 7, 3, 5, 1, 4, 8, 1, 4, 8, 6, 5, 0, 8, 3, 7, 2, 6, 1,\n",
              "       8, 5, 0, 1, 1, 8, 7, 1, 8, 6, 6, 0, 0, 8, 1, 0, 0, 3, 8, 5, 8, 2,\n",
              "       8, 6, 0, 6, 7, 4, 6, 8, 4, 1, 1, 6, 8, 7, 7, 0, 7, 8, 4, 1, 3, 4,\n",
              "       0, 0, 0, 3, 7, 2, 4, 8, 5, 4, 7, 2, 2, 3, 3, 5, 5, 1], dtype=int32)"
            ]
          },
          "metadata": {},
          "execution_count": 13
        }
      ]
    },
    {
      "cell_type": "code",
      "source": [
        "import numpy as np\n",
        "import matplotlib.pyplot as plt\n",
        "import pandas as pd"
      ],
      "metadata": {
        "id": "-CZgbJ0KCqWG"
      },
      "execution_count": 14,
      "outputs": []
    },
    {
      "cell_type": "code",
      "source": [
        "color = np.array([\"Red\",\"Green\",\"Blue\",\"yellow\",\"black\",\"white\",\"brown\",\"pink\",\"purple\"])\n",
        "plt.subplot(1,2,2)\n",
        "plt.scatter(skala_fitur[:,0], skala_fitur[:,1], s=50, alpha=1, cmap='viridis', c=color[metode_kmeans.labels_])"
      ],
      "metadata": {
        "colab": {
          "base_uri": "https://localhost:8080/",
          "height": 485
        },
        "id": "yaFZVuhnCxfm",
        "outputId": "58b34781-ad75-47c8-973d-f00cdeba915a"
      },
      "execution_count": 15,
      "outputs": [
        {
          "output_type": "stream",
          "name": "stderr",
          "text": [
            "<ipython-input-15-4be062c28ced>:3: UserWarning: No data for colormapping provided via 'c'. Parameters 'cmap' will be ignored\n",
            "  plt.scatter(skala_fitur[:,0], skala_fitur[:,1], s=50, alpha=1, cmap='viridis', c=color[metode_kmeans.labels_])\n"
          ]
        },
        {
          "output_type": "execute_result",
          "data": {
            "text/plain": [
              "<matplotlib.collections.PathCollection at 0x7fce74a57b20>"
            ]
          },
          "metadata": {},
          "execution_count": 15
        },
        {
          "output_type": "display_data",
          "data": {
            "text/plain": [
              "<Figure size 640x480 with 1 Axes>"
            ],
            "image/png": "[encoded data removed]"
          },
          "metadata": {}
        }
      ]
    },
    {
      "cell_type": "code",
      "source": [],
      "metadata": {
        "id": "xJqFclZ5C3Or"
      },
      "execution_count": null,
      "outputs": []
    }
  ]
}